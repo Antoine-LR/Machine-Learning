{
 "cells": [
  {
   "attachments": {
    "t%C3%A9l%C3%A9chargement.png": {
     "image/png": "[encoded data removed]"
    }
   },
   "cell_type": "markdown",
   "metadata": {},
   "source": [
    "![t%C3%A9l%C3%A9chargement.png](attachment:t%C3%A9l%C3%A9chargement.png)"
   ]
  },
  {
   "cell_type": "code",
   "execution_count": 1,
   "metadata": {},
   "outputs": [
    {
     "name": "stderr",
     "output_type": "stream",
     "text": [
      "[nltk_data] Downloading package stopwords to\n",
      "[nltk_data]     C:\\Users\\perso\\AppData\\Roaming\\nltk_data...\n",
      "[nltk_data]   Package stopwords is already up-to-date!\n",
      "[nltk_data] Downloading package wordnet to\n",
      "[nltk_data]     C:\\Users\\perso\\AppData\\Roaming\\nltk_data...\n",
      "[nltk_data]   Package wordnet is already up-to-date!\n"
     ]
    }
   ],
   "source": [
    "import warnings\n",
    "warnings.filterwarnings(\"ignore\")\n",
    "\n",
    "import pandas as pd\n",
    "import numpy as np\n",
    "import matplotlib.pyplot as plt\n",
    "import seaborn as sns\n",
    "import re\n",
    "from collections import defaultdict, Counter\n",
    "import nltk\n",
    "from nltk.corpus import stopwords\n",
    "from nltk.stem import WordNetLemmatizer\n",
    "from nltk.tokenize import word_tokenize\n",
    "import string\n",
    "from sklearn.manifold import TSNE\n",
    "from wordcloud import WordCloud, STOPWORDS\n",
    "import gc\n",
    "import nltk\n",
    "import pickle\n",
    "import time\n",
    "from sklearn import cluster, metrics\n",
    "from sklearn import manifold, decomposition\n",
    "import logging\n",
    "from sklearn.feature_extraction.text import TfidfTransformer\n",
    "from sklearn.feature_extraction.text import TfidfVectorizer\n",
    "from sklearn.feature_extraction.text import CountVectorizer\n",
    "from sklearn.metrics import confusion_matrix\n",
    "from sklearn import metrics\n",
    "from sklearn.metrics import roc_curve, auc\n",
    "from nltk.stem.porter import PorterStemmer\n",
    "# Download the required NLTK data\n",
    "nltk.download('stopwords')\n",
    "nltk.download('wordnet')\n",
    "\n",
    "from pickle import dump"
   ]
  },
  {
   "cell_type": "code",
   "execution_count": 2,
   "metadata": {},
   "outputs": [
    {
     "name": "stdout",
     "output_type": "stream",
     "text": [
      "(40682, 7)\n"
     ]
    }
   ],
   "source": [
    "df = pd.read_csv(\"QueryResults_MLsupervisee.csv\")\n",
    "print(df.shape)"
   ]
  },
  {
   "cell_type": "code",
   "execution_count": 3,
   "metadata": {},
   "outputs": [
    {
     "data": {
      "text/html": [
       "<div>\n",
       "<style scoped>\n",
       "    .dataframe tbody tr th:only-of-type {\n",
       "        vertical-align: middle;\n",
       "    }\n",
       "\n",
       "    .dataframe tbody tr th {\n",
       "        vertical-align: top;\n",
       "    }\n",
       "\n",
       "    .dataframe thead th {\n",
       "        text-align: right;\n",
       "    }\n",
       "</style>\n",
       "<table border=\"1\" class=\"dataframe\">\n",
       "  <thead>\n",
       "    <tr style=\"text-align: right;\">\n",
       "      <th></th>\n",
       "      <th>Tags_filtered</th>\n",
       "      <th>Tags_filtered_len</th>\n",
       "      <th>Words_filtered</th>\n",
       "      <th>Words_filtered_len</th>\n",
       "      <th>Texte_len</th>\n",
       "      <th>Tags_len</th>\n",
       "      <th>Tags_len_ratio</th>\n",
       "    </tr>\n",
       "  </thead>\n",
       "  <tbody>\n",
       "    <tr>\n",
       "      <th>0</th>\n",
       "      <td>iphone objective-c</td>\n",
       "      <td>2.0</td>\n",
       "      <td>use try iphone</td>\n",
       "      <td>3.0</td>\n",
       "      <td>14</td>\n",
       "      <td>18</td>\n",
       "      <td>1.0</td>\n",
       "    </tr>\n",
       "    <tr>\n",
       "      <th>1</th>\n",
       "      <td>java xml</td>\n",
       "      <td>2.0</td>\n",
       "      <td>content xml file xml know type xml use java ap...</td>\n",
       "      <td>33.0</td>\n",
       "      <td>169</td>\n",
       "      <td>8</td>\n",
       "      <td>21.0</td>\n",
       "    </tr>\n",
       "    <tr>\n",
       "      <th>2</th>\n",
       "      <td>database</td>\n",
       "      <td>1.0</td>\n",
       "      <td>set database like think would way web service ...</td>\n",
       "      <td>43.0</td>\n",
       "      <td>228</td>\n",
       "      <td>8</td>\n",
       "      <td>28.0</td>\n",
       "    </tr>\n",
       "    <tr>\n",
       "      <th>3</th>\n",
       "      <td>java</td>\n",
       "      <td>1.0</td>\n",
       "      <td>change see also java however seem work follow ...</td>\n",
       "      <td>27.0</td>\n",
       "      <td>155</td>\n",
       "      <td>4</td>\n",
       "      <td>39.0</td>\n",
       "    </tr>\n",
       "    <tr>\n",
       "      <th>4</th>\n",
       "      <td>ios macos</td>\n",
       "      <td>2.0</td>\n",
       "      <td>load file source macos io question use io maco...</td>\n",
       "      <td>111.0</td>\n",
       "      <td>585</td>\n",
       "      <td>9</td>\n",
       "      <td>65.0</td>\n",
       "    </tr>\n",
       "    <tr>\n",
       "      <th>...</th>\n",
       "      <td>...</td>\n",
       "      <td>...</td>\n",
       "      <td>...</td>\n",
       "      <td>...</td>\n",
       "      <td>...</td>\n",
       "      <td>...</td>\n",
       "      <td>...</td>\n",
       "    </tr>\n",
       "    <tr>\n",
       "      <th>40677</th>\n",
       "      <td>c# wpf</td>\n",
       "      <td>2.0</td>\n",
       "      <td>wpf view app xml see view net however case mak...</td>\n",
       "      <td>27.0</td>\n",
       "      <td>151</td>\n",
       "      <td>6</td>\n",
       "      <td>25.0</td>\n",
       "    </tr>\n",
       "    <tr>\n",
       "      <th>40678</th>\n",
       "      <td>ios objective-c</td>\n",
       "      <td>2.0</td>\n",
       "      <td>json json data url string url return code want...</td>\n",
       "      <td>44.0</td>\n",
       "      <td>245</td>\n",
       "      <td>15</td>\n",
       "      <td>16.0</td>\n",
       "    </tr>\n",
       "    <tr>\n",
       "      <th>40679</th>\n",
       "      <td>javascript node.js</td>\n",
       "      <td>2.0</td>\n",
       "      <td>javascript j different path use code something...</td>\n",
       "      <td>8.0</td>\n",
       "      <td>53</td>\n",
       "      <td>18</td>\n",
       "      <td>3.0</td>\n",
       "    </tr>\n",
       "    <tr>\n",
       "      <th>40680</th>\n",
       "      <td>java android unit-testing</td>\n",
       "      <td>3.0</td>\n",
       "      <td>android test class fail compile error write an...</td>\n",
       "      <td>36.0</td>\n",
       "      <td>202</td>\n",
       "      <td>25</td>\n",
       "      <td>8.0</td>\n",
       "    </tr>\n",
       "    <tr>\n",
       "      <th>40681</th>\n",
       "      <td>java</td>\n",
       "      <td>1.0</td>\n",
       "      <td>would like project html like way</td>\n",
       "      <td>6.0</td>\n",
       "      <td>32</td>\n",
       "      <td>4</td>\n",
       "      <td>8.0</td>\n",
       "    </tr>\n",
       "  </tbody>\n",
       "</table>\n",
       "<p>40682 rows × 7 columns</p>\n",
       "</div>"
      ],
      "text/plain": [
       "                   Tags_filtered  Tags_filtered_len  \\\n",
       "0             iphone objective-c                2.0   \n",
       "1                       java xml                2.0   \n",
       "2                       database                1.0   \n",
       "3                           java                1.0   \n",
       "4                      ios macos                2.0   \n",
       "...                          ...                ...   \n",
       "40677                     c# wpf                2.0   \n",
       "40678            ios objective-c                2.0   \n",
       "40679         javascript node.js                2.0   \n",
       "40680  java android unit-testing                3.0   \n",
       "40681                       java                1.0   \n",
       "\n",
       "                                          Words_filtered  Words_filtered_len  \\\n",
       "0                                         use try iphone                 3.0   \n",
       "1      content xml file xml know type xml use java ap...                33.0   \n",
       "2      set database like think would way web service ...                43.0   \n",
       "3      change see also java however seem work follow ...                27.0   \n",
       "4      load file source macos io question use io maco...               111.0   \n",
       "...                                                  ...                 ...   \n",
       "40677  wpf view app xml see view net however case mak...                27.0   \n",
       "40678  json json data url string url return code want...                44.0   \n",
       "40679  javascript j different path use code something...                 8.0   \n",
       "40680  android test class fail compile error write an...                36.0   \n",
       "40681                   would like project html like way                 6.0   \n",
       "\n",
       "       Texte_len  Tags_len  Tags_len_ratio  \n",
       "0             14        18             1.0  \n",
       "1            169         8            21.0  \n",
       "2            228         8            28.0  \n",
       "3            155         4            39.0  \n",
       "4            585         9            65.0  \n",
       "...          ...       ...             ...  \n",
       "40677        151         6            25.0  \n",
       "40678        245        15            16.0  \n",
       "40679         53        18             3.0  \n",
       "40680        202        25             8.0  \n",
       "40681         32         4             8.0  \n",
       "\n",
       "[40682 rows x 7 columns]"
      ]
     },
     "execution_count": 3,
     "metadata": {},
     "output_type": "execute_result"
    }
   ],
   "source": [
    "df"
   ]
  },
  {
   "cell_type": "code",
   "execution_count": 4,
   "metadata": {},
   "outputs": [],
   "source": [
    "# Replace spaces with commas in 'Tags' and 'Text' columns\n",
    "df['Tags'] = df['Tags_filtered'].str.replace(' ', ', ')\n",
    "df['Text'] = df['Words_filtered'].str.replace(' ', ', ')"
   ]
  },
  {
   "cell_type": "code",
   "execution_count": 5,
   "metadata": {},
   "outputs": [],
   "source": [
    "def add_brackets(s):\n",
    "    return '[' + s + ']'"
   ]
  },
  {
   "cell_type": "code",
   "execution_count": 6,
   "metadata": {},
   "outputs": [],
   "source": [
    "df['Text'] = df['Text'].apply(add_brackets)\n",
    "#df['Tags'] = df['Tags'].apply(add_brackets)"
   ]
  },
  {
   "cell_type": "code",
   "execution_count": 7,
   "metadata": {},
   "outputs": [
    {
     "data": {
      "text/html": [
       "<div>\n",
       "<style scoped>\n",
       "    .dataframe tbody tr th:only-of-type {\n",
       "        vertical-align: middle;\n",
       "    }\n",
       "\n",
       "    .dataframe tbody tr th {\n",
       "        vertical-align: top;\n",
       "    }\n",
       "\n",
       "    .dataframe thead th {\n",
       "        text-align: right;\n",
       "    }\n",
       "</style>\n",
       "<table border=\"1\" class=\"dataframe\">\n",
       "  <thead>\n",
       "    <tr style=\"text-align: right;\">\n",
       "      <th></th>\n",
       "      <th>Tags_filtered</th>\n",
       "      <th>Tags_filtered_len</th>\n",
       "      <th>Words_filtered</th>\n",
       "      <th>Words_filtered_len</th>\n",
       "      <th>Texte_len</th>\n",
       "      <th>Tags_len</th>\n",
       "      <th>Tags_len_ratio</th>\n",
       "      <th>Tags</th>\n",
       "      <th>Text</th>\n",
       "    </tr>\n",
       "  </thead>\n",
       "  <tbody>\n",
       "    <tr>\n",
       "      <th>0</th>\n",
       "      <td>iphone objective-c</td>\n",
       "      <td>2.0</td>\n",
       "      <td>use try iphone</td>\n",
       "      <td>3.0</td>\n",
       "      <td>14</td>\n",
       "      <td>18</td>\n",
       "      <td>1.0</td>\n",
       "      <td>iphone, objective-c</td>\n",
       "      <td>[use, try, iphone]</td>\n",
       "    </tr>\n",
       "    <tr>\n",
       "      <th>1</th>\n",
       "      <td>java xml</td>\n",
       "      <td>2.0</td>\n",
       "      <td>content xml file xml know type xml use java ap...</td>\n",
       "      <td>33.0</td>\n",
       "      <td>169</td>\n",
       "      <td>8</td>\n",
       "      <td>21.0</td>\n",
       "      <td>java, xml</td>\n",
       "      <td>[content, xml, file, xml, know, type, xml, use...</td>\n",
       "    </tr>\n",
       "    <tr>\n",
       "      <th>2</th>\n",
       "      <td>database</td>\n",
       "      <td>1.0</td>\n",
       "      <td>set database like think would way web service ...</td>\n",
       "      <td>43.0</td>\n",
       "      <td>228</td>\n",
       "      <td>8</td>\n",
       "      <td>28.0</td>\n",
       "      <td>database</td>\n",
       "      <td>[set, database, like, think, would, way, web, ...</td>\n",
       "    </tr>\n",
       "    <tr>\n",
       "      <th>3</th>\n",
       "      <td>java</td>\n",
       "      <td>1.0</td>\n",
       "      <td>change see also java however seem work follow ...</td>\n",
       "      <td>27.0</td>\n",
       "      <td>155</td>\n",
       "      <td>4</td>\n",
       "      <td>39.0</td>\n",
       "      <td>java</td>\n",
       "      <td>[change, see, also, java, however, seem, work,...</td>\n",
       "    </tr>\n",
       "    <tr>\n",
       "      <th>4</th>\n",
       "      <td>ios macos</td>\n",
       "      <td>2.0</td>\n",
       "      <td>load file source macos io question use io maco...</td>\n",
       "      <td>111.0</td>\n",
       "      <td>585</td>\n",
       "      <td>9</td>\n",
       "      <td>65.0</td>\n",
       "      <td>ios, macos</td>\n",
       "      <td>[load, file, source, macos, io, question, use,...</td>\n",
       "    </tr>\n",
       "    <tr>\n",
       "      <th>...</th>\n",
       "      <td>...</td>\n",
       "      <td>...</td>\n",
       "      <td>...</td>\n",
       "      <td>...</td>\n",
       "      <td>...</td>\n",
       "      <td>...</td>\n",
       "      <td>...</td>\n",
       "      <td>...</td>\n",
       "      <td>...</td>\n",
       "    </tr>\n",
       "    <tr>\n",
       "      <th>40677</th>\n",
       "      <td>c# wpf</td>\n",
       "      <td>2.0</td>\n",
       "      <td>wpf view app xml see view net however case mak...</td>\n",
       "      <td>27.0</td>\n",
       "      <td>151</td>\n",
       "      <td>6</td>\n",
       "      <td>25.0</td>\n",
       "      <td>c#, wpf</td>\n",
       "      <td>[wpf, view, app, xml, see, view, net, however,...</td>\n",
       "    </tr>\n",
       "    <tr>\n",
       "      <th>40678</th>\n",
       "      <td>ios objective-c</td>\n",
       "      <td>2.0</td>\n",
       "      <td>json json data url string url return code want...</td>\n",
       "      <td>44.0</td>\n",
       "      <td>245</td>\n",
       "      <td>15</td>\n",
       "      <td>16.0</td>\n",
       "      <td>ios, objective-c</td>\n",
       "      <td>[json, json, data, url, string, url, return, c...</td>\n",
       "    </tr>\n",
       "    <tr>\n",
       "      <th>40679</th>\n",
       "      <td>javascript node.js</td>\n",
       "      <td>2.0</td>\n",
       "      <td>javascript j different path use code something...</td>\n",
       "      <td>8.0</td>\n",
       "      <td>53</td>\n",
       "      <td>18</td>\n",
       "      <td>3.0</td>\n",
       "      <td>javascript, node.js</td>\n",
       "      <td>[javascript, j, different, path, use, code, so...</td>\n",
       "    </tr>\n",
       "    <tr>\n",
       "      <th>40680</th>\n",
       "      <td>java android unit-testing</td>\n",
       "      <td>3.0</td>\n",
       "      <td>android test class fail compile error write an...</td>\n",
       "      <td>36.0</td>\n",
       "      <td>202</td>\n",
       "      <td>25</td>\n",
       "      <td>8.0</td>\n",
       "      <td>java, android, unit-testing</td>\n",
       "      <td>[android, test, class, fail, compile, error, w...</td>\n",
       "    </tr>\n",
       "    <tr>\n",
       "      <th>40681</th>\n",
       "      <td>java</td>\n",
       "      <td>1.0</td>\n",
       "      <td>would like project html like way</td>\n",
       "      <td>6.0</td>\n",
       "      <td>32</td>\n",
       "      <td>4</td>\n",
       "      <td>8.0</td>\n",
       "      <td>java</td>\n",
       "      <td>[would, like, project, html, like, way]</td>\n",
       "    </tr>\n",
       "  </tbody>\n",
       "</table>\n",
       "<p>40682 rows × 9 columns</p>\n",
       "</div>"
      ],
      "text/plain": [
       "                   Tags_filtered  Tags_filtered_len  \\\n",
       "0             iphone objective-c                2.0   \n",
       "1                       java xml                2.0   \n",
       "2                       database                1.0   \n",
       "3                           java                1.0   \n",
       "4                      ios macos                2.0   \n",
       "...                          ...                ...   \n",
       "40677                     c# wpf                2.0   \n",
       "40678            ios objective-c                2.0   \n",
       "40679         javascript node.js                2.0   \n",
       "40680  java android unit-testing                3.0   \n",
       "40681                       java                1.0   \n",
       "\n",
       "                                          Words_filtered  Words_filtered_len  \\\n",
       "0                                         use try iphone                 3.0   \n",
       "1      content xml file xml know type xml use java ap...                33.0   \n",
       "2      set database like think would way web service ...                43.0   \n",
       "3      change see also java however seem work follow ...                27.0   \n",
       "4      load file source macos io question use io maco...               111.0   \n",
       "...                                                  ...                 ...   \n",
       "40677  wpf view app xml see view net however case mak...                27.0   \n",
       "40678  json json data url string url return code want...                44.0   \n",
       "40679  javascript j different path use code something...                 8.0   \n",
       "40680  android test class fail compile error write an...                36.0   \n",
       "40681                   would like project html like way                 6.0   \n",
       "\n",
       "       Texte_len  Tags_len  Tags_len_ratio                         Tags  \\\n",
       "0             14        18             1.0          iphone, objective-c   \n",
       "1            169         8            21.0                    java, xml   \n",
       "2            228         8            28.0                     database   \n",
       "3            155         4            39.0                         java   \n",
       "4            585         9            65.0                   ios, macos   \n",
       "...          ...       ...             ...                          ...   \n",
       "40677        151         6            25.0                      c#, wpf   \n",
       "40678        245        15            16.0             ios, objective-c   \n",
       "40679         53        18             3.0          javascript, node.js   \n",
       "40680        202        25             8.0  java, android, unit-testing   \n",
       "40681         32         4             8.0                         java   \n",
       "\n",
       "                                                    Text  \n",
       "0                                     [use, try, iphone]  \n",
       "1      [content, xml, file, xml, know, type, xml, use...  \n",
       "2      [set, database, like, think, would, way, web, ...  \n",
       "3      [change, see, also, java, however, seem, work,...  \n",
       "4      [load, file, source, macos, io, question, use,...  \n",
       "...                                                  ...  \n",
       "40677  [wpf, view, app, xml, see, view, net, however,...  \n",
       "40678  [json, json, data, url, string, url, return, c...  \n",
       "40679  [javascript, j, different, path, use, code, so...  \n",
       "40680  [android, test, class, fail, compile, error, w...  \n",
       "40681            [would, like, project, html, like, way]  \n",
       "\n",
       "[40682 rows x 9 columns]"
      ]
     },
     "execution_count": 7,
     "metadata": {},
     "output_type": "execute_result"
    }
   ],
   "source": [
    "df"
   ]
  },
  {
   "cell_type": "markdown",
   "metadata": {},
   "source": [
    "# Models supervisés"
   ]
  },
  {
   "cell_type": "code",
   "execution_count": 8,
   "metadata": {},
   "outputs": [],
   "source": [
    "from sklearn.preprocessing import MultiLabelBinarizer"
   ]
  },
  {
   "cell_type": "markdown",
   "metadata": {},
   "source": [
    "## Réduction dimentionelle\n",
    "**PCA (Principal Component Analysis)** et **TruncatedSVD (Truncated Singular Value Decomposition)** sont deux techniques de réduction de dimensionnalité couramment utilisées en apprentissage automatique. Bien qu'elles soient toutes deux utilisées pour réduire la dimensionnalité d'un ensemble de données, il y a des différences importantes entre les deux.\n",
    "\n",
    "La principale différence est que PCA est une technique linéaire, tandis que TruncatedSVD est une technique non linéaire. PCA trouve les composantes principales qui capturent la plus grande variabilité linéaire des données, tandis que TruncatedSVD trouve les k valeurs singulières les plus importantes d'une matrice, qui sont utilisées pour réduire la dimensionnalité.\n",
    "\n",
    "De plus, TruncatedSVD peut être utilisé pour les matrices creuses, tandis que PCA ne peut pas. En effet, la plupart des implémentations de TruncatedSVD sont optimisées pour les matrices creuses, tandis que PCA ne l'est pas.\n",
    "\n",
    "Enfin, TruncatedSVD est plus rapide que PCA pour les grandes matrices, car il ne calcule que les k valeurs singulières les plus importantes, tandis que PCA calcule toutes les composantes principales. Cependant, TruncatedSVD peut ne pas être aussi précis que PCA pour des matrices de petites ou moyennes tailles, car il ne capture pas nécessairement toute la variabilité linéaire des données."
   ]
  },
  {
   "cell_type": "code",
   "execution_count": 9,
   "metadata": {},
   "outputs": [],
   "source": [
    "from sklearn.model_selection import train_test_split\n",
    "from sklearn.decomposition import TruncatedSVD"
   ]
  },
  {
   "cell_type": "code",
   "execution_count": 10,
   "metadata": {},
   "outputs": [],
   "source": [
    "# Define the TF-IDF vectorizer\n",
    "tfidf_vectorizer = TfidfVectorizer(max_df=0.95, \n",
    "                                    min_df=2, \n",
    "                                    stop_words='english')\n",
    "\n",
    "\n",
    "# Fit and transform the TF-IDF matrix\n",
    "X = tfidf_vectorizer.fit_transform(df['Text'])"
   ]
  },
  {
   "cell_type": "code",
   "execution_count": 11,
   "metadata": {},
   "outputs": [
    {
     "data": {
      "text/plain": [
       "Text(0.5, 1.0, 'Eboulis des valeurs propres')"
      ]
     },
     "execution_count": 11,
     "metadata": {},
     "output_type": "execute_result"
    },
    {
     "data": {
      "image/png": "[encoded data removed]",
      "text/plain": [
       "<Figure size 864x576 with 1 Axes>"
      ]
     },
     "metadata": {
      "needs_background": "light"
     },
     "output_type": "display_data"
    }
   ],
   "source": [
    "clf = TruncatedSVD(190)\n",
    "Xpca = clf.fit_transform(X)\n",
    "\n",
    "var_expl = clf.explained_variance_ratio_*100\n",
    "\n",
    "plt.figure(figsize=(12,8))\n",
    "plt.bar(np.arange(len(var_expl))+1, var_expl)\n",
    "plt.plot(np.arange(len(var_expl))+1, var_expl.cumsum(),c=\"green\",marker='o')\n",
    "plt.xlabel(\"Axe d'inertie\")\n",
    "plt.ylabel(\"Inertie\")\n",
    "plt.title(\"Eboulis des valeurs propres\")"
   ]
  },
  {
   "cell_type": "code",
   "execution_count": 12,
   "metadata": {},
   "outputs": [
    {
     "name": "stdout",
     "output_type": "stream",
     "text": [
      "Proportion of Variance Explained :  [0.00670062 0.02277014 0.01818596 0.01709791 0.01544275 0.01474136\n",
      " 0.01450281 0.01381611 0.0130213  0.01281475 0.01256076 0.0121689\n",
      " 0.0119226  0.01092666 0.0107815  0.01024523 0.01009007 0.00977614\n",
      " 0.009616   0.00956289 0.00908791 0.0090341  0.00878702 0.00864787\n",
      " 0.00830686 0.00823455 0.00821241 0.00790857 0.00782162 0.0076627\n",
      " 0.00755651 0.00740423 0.00738518 0.00730645 0.00721268 0.00714335\n",
      " 0.00703501 0.00694247 0.00685059 0.00682577 0.00678965 0.00673468\n",
      " 0.00663977 0.0065813  0.00650737 0.00643786 0.00632867 0.00630756\n",
      " 0.00627184 0.00620301 0.00609515 0.00602248 0.00591473 0.00588578\n",
      " 0.00583342 0.00582109 0.00572461 0.00569358 0.00565535 0.0055819\n",
      " 0.0055442  0.00552107 0.00544882 0.00542503 0.00537334 0.00531042\n",
      " 0.00524576 0.00519832 0.00515756 0.00514318 0.00513268 0.00503898\n",
      " 0.0050288  0.00498699 0.0049445  0.00494013 0.00492012 0.00489243\n",
      " 0.00485649 0.00482033 0.00477711 0.00473959 0.00471686 0.00467684\n",
      " 0.00464272 0.00461257 0.00456662 0.00455837 0.00448361 0.00444887\n",
      " 0.00443586 0.00439649 0.00436684 0.00433829 0.00429921 0.00426749\n",
      " 0.00425525 0.00423563 0.00423121 0.00418656 0.00417489 0.00414802\n",
      " 0.00413011 0.00408379 0.00406686 0.00403882 0.00402434 0.00399719\n",
      " 0.00398445 0.00395366 0.00392043 0.00389636 0.00387439 0.00386495\n",
      " 0.00383169 0.00382222 0.00381696 0.00378508 0.00377661 0.00375296\n",
      " 0.00369848 0.00368286 0.00366996 0.00364358 0.00362876 0.00359626\n",
      " 0.00358116 0.0035714  0.00356332 0.00355679 0.00351153 0.00350304\n",
      " 0.00349132 0.00346447 0.00344888 0.0034257  0.00341163 0.00339969\n",
      " 0.00335785 0.00334049 0.00331904 0.00331433 0.00328721 0.00325235\n",
      " 0.00321058 0.00319453 0.00318305 0.0031643  0.00314407 0.00310462\n",
      " 0.00309261 0.00307551 0.00303696 0.00302675 0.00301285 0.0029906\n",
      " 0.00296869 0.00286263 0.00283957 0.0028057  0.00277684 0.00276386\n",
      " 0.00273776 0.00272331 0.00270428 0.00264945 0.002625   0.00259255\n",
      " 0.00255161 0.00251976 0.00249551 0.00246157 0.00238962 0.00237233\n",
      " 0.00233017 0.00223849 0.00220364 0.00206713 0.00203035 0.00200506\n",
      " 0.00198876 0.00186992 0.0018447  0.00158406 0.00107137 0.00102152\n",
      " 0.0009835  0.00077778 0.00055062 0.00019748]\n",
      "Cumulative Prop. Variance Explained:  [0.00670062 0.02947076 0.04765672 0.06475463 0.08019738 0.09493874\n",
      " 0.10944155 0.12325767 0.13627897 0.14909372 0.16165448 0.17382339\n",
      " 0.18574599 0.19667264 0.20745414 0.21769937 0.22778944 0.23756558\n",
      " 0.24718159 0.25674447 0.26583238 0.27486648 0.2836535  0.29230137\n",
      " 0.30060823 0.30884277 0.31705518 0.32496375 0.33278538 0.34044807\n",
      " 0.34800458 0.3554088  0.36279399 0.37010044 0.37731312 0.38445647\n",
      " 0.39149147 0.39843394 0.40528453 0.4121103  0.41889995 0.42563463\n",
      " 0.4322744  0.43885569 0.44536307 0.45180093 0.45812959 0.46443715\n",
      " 0.47070899 0.476912   0.48300715 0.48902963 0.49494436 0.50083014\n",
      " 0.50666356 0.51248465 0.51820926 0.52390284 0.52955818 0.53514008\n",
      " 0.54068428 0.54620535 0.55165417 0.5570792  0.56245254 0.56776296\n",
      " 0.57300872 0.57820704 0.5833646  0.58850778 0.59364046 0.59867944\n",
      " 0.60370823 0.60869523 0.61363973 0.61857986 0.62349998 0.62839241\n",
      " 0.6332489  0.63806923 0.64284634 0.64758593 0.65230279 0.65697963\n",
      " 0.66162235 0.66623493 0.67080155 0.67535992 0.67984353 0.6842924\n",
      " 0.68872827 0.69312476 0.6974916  0.70182989 0.7061291  0.71039659\n",
      " 0.71465184 0.71888747 0.72311868 0.72730524 0.73148014 0.73562816\n",
      " 0.73975827 0.74384206 0.74790892 0.75194774 0.75597207 0.75996926\n",
      " 0.76395371 0.76790737 0.7718278  0.77572416 0.77959856 0.78346351\n",
      " 0.7872952  0.79111742 0.79493439 0.79871947 0.80249608 0.80624905\n",
      " 0.80994753 0.81363038 0.81730034 0.82094392 0.82457268 0.82816894\n",
      " 0.8317501  0.8353215  0.83888482 0.84244161 0.84595314 0.84945619\n",
      " 0.85294751 0.85641198 0.85986087 0.86328656 0.86669819 0.87009789\n",
      " 0.87345573 0.87679622 0.88011526 0.88342959 0.8867168  0.88996915\n",
      " 0.89317973 0.89637426 0.89955731 0.90272161 0.90586568 0.9089703\n",
      " 0.91206291 0.91513842 0.91817538 0.92120213 0.92421498 0.92720557\n",
      " 0.93017426 0.93303689 0.93587646 0.93868216 0.941459   0.94422286\n",
      " 0.94696062 0.94968393 0.95238821 0.95503766 0.95766265 0.96025521\n",
      " 0.96280682 0.96532659 0.9678221  0.97028366 0.97267329 0.97504562\n",
      " 0.97737579 0.97961428 0.98181792 0.98388505 0.9859154  0.98792046\n",
      " 0.98990922 0.99177914 0.99362383 0.99520789 0.99627926 0.99730078\n",
      " 0.99828428 0.99906206 0.99961268 0.99981016]\n"
     ]
    }
   ],
   "source": [
    "print (\"Proportion of Variance Explained : \", clf.explained_variance_ratio_)  \n",
    "    \n",
    "out_sum = np.cumsum(clf.explained_variance_ratio_)  \n",
    "print (\"Cumulative Prop. Variance Explained: \", out_sum)"
   ]
  },
  {
   "cell_type": "markdown",
   "metadata": {},
   "source": [
    "## Tf idf\n",
    "* TF = nombre de fois où le mot est dans le document / nombre de mots dans le document\n",
    "* IDF = nombre de documents / nombre de documents où apparaît le mot"
   ]
  },
  {
   "cell_type": "code",
   "execution_count": 13,
   "metadata": {},
   "outputs": [
    {
     "name": "stdout",
     "output_type": "stream",
     "text": [
      "Shape of X for Full_doc: (40682, 212)\n",
      "Wall time: 9.26 s\n"
     ]
    }
   ],
   "source": [
    "%%time\n",
    "# Define X and y\n",
    "X = df['Text']\n",
    "\n",
    "# Initialize the \"CountVectorizer\" TFIDF for text_comb\n",
    "vectorizer = TfidfVectorizer(analyzer=\"word\",\n",
    "                             max_df=.97,\n",
    "                             min_df= 3,\n",
    "                             tokenizer=None)\n",
    "vectorizer.fit(X)\n",
    "X_tfidf = vectorizer.transform(X)\n",
    "\n",
    "print(\"Shape of X for Full_doc: {}\".format(X_tfidf.shape))"
   ]
  },
  {
   "cell_type": "markdown",
   "metadata": {},
   "source": [
    "## Classification multi-classes\n",
    "\n",
    "La classification multi-classes est une tâche dans laquelle les exemples sont affectés à une classe parmi plus de deux.\n",
    "\n",
    "Classification binaire : Tâches de classification à deux classes.\n",
    "Classification multi-classes : Tâches de classification comportant plus de deux classes.\n",
    "Certains algorithmes sont conçus pour les problèmes de classification binaire. En voici quelques exemples :\n",
    "\n",
    "* Régression logistique\n",
    "* SVM"
   ]
  },
  {
   "cell_type": "code",
   "execution_count": 14,
   "metadata": {},
   "outputs": [],
   "source": [
    "# Conversion des labels en listes d'éléments pour la classification multi-label\n",
    "y = df[\"Tags\"].apply(lambda x: x.split(\",\")).tolist()"
   ]
  },
  {
   "cell_type": "code",
   "execution_count": 15,
   "metadata": {},
   "outputs": [
    {
     "name": "stdout",
     "output_type": "stream",
     "text": [
      "Shape of y:              (40682, 92)\n",
      "Wall time: 95.4 ms\n"
     ]
    }
   ],
   "source": [
    "%%time\n",
    "# Multilabel binarizer for targets\n",
    "multilabel_binarizer = MultiLabelBinarizer()\n",
    "multilabel_binarizer.fit(y)\n",
    "y_binarized = multilabel_binarizer.transform(y)\n",
    "\n",
    "print(f\"Shape of y:              {y_binarized.shape}\")"
   ]
  },
  {
   "cell_type": "markdown",
   "metadata": {},
   "source": [
    "## TF IDF"
   ]
  },
  {
   "cell_type": "code",
   "execution_count": 16,
   "metadata": {},
   "outputs": [],
   "source": [
    "from sklearn.model_selection import train_test_split\n",
    "from sklearn.multiclass import OneVsRestClassifier\n",
    "from sklearn.model_selection import GridSearchCV\n",
    "from sklearn.linear_model import LogisticRegression\n",
    "from sklearn.ensemble import RandomForestClassifier\n",
    "from sklearn.tree import DecisionTreeClassifier\n",
    "from sklearn.neighbors import KNeighborsClassifier\n",
    "import xgboost as xgb\n",
    "from xgboost import XGBRegressor\n",
    "from sklearn.svm import SVC\n",
    "\n",
    "from pickle import dump"
   ]
  },
  {
   "cell_type": "code",
   "execution_count": 17,
   "metadata": {},
   "outputs": [],
   "source": [
    "from sklearn.metrics import accuracy_score, f1_score, recall_score\n",
    "from sklearn.metrics import classification_report"
   ]
  },
  {
   "cell_type": "code",
   "execution_count": 18,
   "metadata": {
    "scrolled": true
   },
   "outputs": [
    {
     "name": "stdout",
     "output_type": "stream",
     "text": [
      "X_train shape : (32545, 212)\n",
      "X_test shape : (8137, 212)\n",
      "y_train shape : (32545, 92)\n",
      "y_test shape : (8137, 92)\n"
     ]
    }
   ],
   "source": [
    "# Create train and test split (20%)\n",
    "X_train, X_test, y_train, y_test = train_test_split(X_tfidf, y_binarized,\n",
    "                                                    test_size=0.20, random_state=42)\n",
    "print(\"X_train shape : {}\".format(X_train.shape))\n",
    "print(\"X_test shape : {}\".format(X_test.shape))\n",
    "print(\"y_train shape : {}\".format(y_train.shape))\n",
    "print(\"y_test shape : {}\".format(y_test.shape))"
   ]
  },
  {
   "cell_type": "markdown",
   "metadata": {},
   "source": [
    "Afin de comparer les modèles nous avons évalué quatre indicateurs :\n",
    "\n",
    "* Précision : capacité à prédire correctement les tags associés à chaque document\n",
    "* Recall : capacité à retourner pour chaque tags tous les documents qui y sont associés\n",
    "* F1 Score : moyenne harmonique de ces deux indicateurs\n",
    "\n",
    "\n",
    "Etant face à une classification multi-classes nous utilisons les version micro de ces indicateurs. Concrètement, cette version des indicateurs est calculée par classe puis agrégés là où les indicateurs macro sont calculés globalement. Lors de l’évaluation nous nous intéressons à la précision et au temps d’entraînement. Dans le cadre d’une API de suggestion de tags, la capacité d’un modèle à retourner tous les documents associés à chaque terme n’est pas essentielle. Le recall et le F1 score seront toutefois été observés pour affiner l’analyse."
   ]
  },
  {
   "cell_type": "code",
   "execution_count": 19,
   "metadata": {},
   "outputs": [],
   "source": [
    "from sklearn.metrics import accuracy_score, precision_score, recall_score, f1_score, confusion_matrix, hamming_loss\n",
    "\n",
    "models_performance = {}\n",
    "\n",
    "\n",
    "def metrics_report(model_name, test_labels, predictions, performances):\n",
    "    accuracy = accuracy_score(test_labels, predictions)\n",
    "    macro_precision = precision_score(\n",
    "        test_labels, predictions, average='macro')\n",
    "    macro_recall = recall_score(test_labels, predictions, average='macro')\n",
    "    macro_f1 = f1_score(test_labels, predictions, average='macro')\n",
    "    micro_precision = precision_score(\n",
    "        test_labels, predictions, average='micro')\n",
    "    micro_recall = recall_score(test_labels, predictions, average='micro')\n",
    "    micro_f1 = f1_score(test_labels, predictions, average='micro')\n",
    "    hamLoss = hamming_loss(test_labels, predictions)\n",
    "    print(\"------\" + model_name + \" Model Metrics-----\")\n",
    "    print(\"Accuracy: {:.4f}\\nHamming Loss: {:.4f}\\nPrecision:\\n  - Macro: {:.4f}\\n  - Micro: {:.4f}\\nRecall:\\n  - Macro: {:.4f}\\n  - Micro: {:.4f}\\nF1-measure:\\n  - Macro: {:.4f}\\n  - Micro: {:.4f}\"\n",
    "          .format(accuracy, hamLoss, macro_precision, micro_precision, macro_recall, micro_recall, macro_f1, micro_f1))\n",
    "\n",
    "    performances[model_name] = {}\n",
    "    performances[model_name][\"micro_precision\"] = micro_precision\n",
    "    performances[model_name][\"micro_recall\"] = micro_recall\n",
    "    performances[model_name][\"micro_f1\"] = micro_f1\n",
    "    performances[model_name][\"training_time\"] = training_time"
   ]
  },
  {
   "cell_type": "code",
   "execution_count": 20,
   "metadata": {},
   "outputs": [],
   "source": [
    "def cut_off(test_labels, y_score):\n",
    "    \"\"\"\n",
    "    Compute threshold for predicted a probability of multi-labels \n",
    "\n",
    "    Parameters\n",
    "    ----------------------------------------\n",
    "    test_labels : array of true labels\n",
    "    y_score : array of predicted labels with probability\n",
    "    ----------------------------------------\n",
    "    \"\"\"\n",
    "    n = y_score.shape[1]\n",
    "    thresholds = np.zeros(n)\n",
    "    # Compute fpr, tpr, thresholds and roc auc\n",
    "    for j in range(n):\n",
    "        # calculate roc curves\n",
    "        fpr, tpr, ths = roc_curve(y_test[:, j], y_score[:, j])\n",
    "        # calculate the statistic\n",
    "        dis = abs(1-fpr-tpr)\n",
    "        # locate the index of the lower distance\n",
    "        idx = np.argmin(dis)\n",
    "        thresholds[j] = ths[idx]\n",
    "    threshold = thresholds.max()\n",
    "\n",
    "    return threshold"
   ]
  },
  {
   "cell_type": "markdown",
   "metadata": {},
   "source": [
    "### Model"
   ]
  },
  {
   "cell_type": "code",
   "execution_count": 26,
   "metadata": {},
   "outputs": [
    {
     "name": "stdout",
     "output_type": "stream",
     "text": [
      "------LogisticRegression_tfidf Model Metrics-----\n",
      "Accuracy: 0.1707\n",
      "Hamming Loss: 0.0157\n",
      "Precision:\n",
      "  - Macro: 0.3839\n",
      "  - Micro: 0.7002\n",
      "Recall:\n",
      "  - Macro: 0.1287\n",
      "  - Micro: 0.2755\n",
      "F1-measure:\n",
      "  - Macro: 0.1787\n",
      "  - Micro: 0.3954\n"
     ]
    }
   ],
   "source": [
    "# Créer le modèle de Logistic Regression\n",
    "model = OneVsRestClassifier(LogisticRegression())\n",
    "\n",
    "# Début de la mesure du temps\n",
    "start_time = time.time()\n",
    "\n",
    "# Entraîner le modèle sur l'ensemble d'entraînement\n",
    "model.fit(X_train, y_train)\n",
    "\n",
    "# Fin de la mesure du temps\n",
    "end_time = time.time()\n",
    "training_time = end_time - start_time\n",
    "\n",
    "# Faire des prédictions sur l'ensemble de test\n",
    "y_pred = model.predict(X_test)\n",
    "metrics_report(\"Regression_logistique_tfidf\", y_test , y_pred, models_performance)"
   ]
  },
  {
   "cell_type": "code",
   "execution_count": 27,
   "metadata": {},
   "outputs": [],
   "source": [
    "pickle.dump(model, open('Logreg_model.pkl', 'wb'))"
   ]
  },
  {
   "cell_type": "code",
   "execution_count": 28,
   "metadata": {},
   "outputs": [
    {
     "data": {
      "text/plain": [
       "1.0"
      ]
     },
     "execution_count": 28,
     "metadata": {},
     "output_type": "execute_result"
    }
   ],
   "source": [
    "# seuil de classification\n",
    "cut_off(y_test, y_pred)"
   ]
  },
  {
   "cell_type": "code",
   "execution_count": 29,
   "metadata": {},
   "outputs": [],
   "source": [
    "# Inverse transform\n",
    "threshold = cut_off(y_test,y_pred)\n",
    "reg_logit_preds = (y_pred>threshold)*1\n",
    "y_pred_inversed = multilabel_binarizer.inverse_transform(y_pred)\n",
    "y_test_inversed = multilabel_binarizer.inverse_transform(y_test)"
   ]
  },
  {
   "cell_type": "code",
   "execution_count": 30,
   "metadata": {},
   "outputs": [],
   "source": [
    "# Créer un dataframe pour stocker les résultats\n",
    "df_resultats_tfidf = pd.DataFrame()\n",
    "\n",
    "# Ajouter les valeurs de y_test et y_pred au dataframe\n",
    "df_resultats_tfidf['y_test'] = y_test_inversed\n",
    "df_resultats_tfidf['y_pred'] = y_pred_inversed"
   ]
  },
  {
   "cell_type": "code",
   "execution_count": 31,
   "metadata": {},
   "outputs": [
    {
     "data": {
      "text/html": [
       "<div>\n",
       "<style scoped>\n",
       "    .dataframe tbody tr th:only-of-type {\n",
       "        vertical-align: middle;\n",
       "    }\n",
       "\n",
       "    .dataframe tbody tr th {\n",
       "        vertical-align: top;\n",
       "    }\n",
       "\n",
       "    .dataframe thead th {\n",
       "        text-align: right;\n",
       "    }\n",
       "</style>\n",
       "<table border=\"1\" class=\"dataframe\">\n",
       "  <thead>\n",
       "    <tr style=\"text-align: right;\">\n",
       "      <th></th>\n",
       "      <th>y_test</th>\n",
       "      <th>y_pred</th>\n",
       "    </tr>\n",
       "  </thead>\n",
       "  <tbody>\n",
       "    <tr>\n",
       "      <th>0</th>\n",
       "      <td>(c++,)</td>\n",
       "      <td>()</td>\n",
       "    </tr>\n",
       "    <tr>\n",
       "      <th>1</th>\n",
       "      <td>(python,)</td>\n",
       "      <td>(python,)</td>\n",
       "    </tr>\n",
       "    <tr>\n",
       "      <th>2</th>\n",
       "      <td>( python-3.x, python)</td>\n",
       "      <td>(python,)</td>\n",
       "    </tr>\n",
       "    <tr>\n",
       "      <th>3</th>\n",
       "      <td>(.net,)</td>\n",
       "      <td>(c#,)</td>\n",
       "    </tr>\n",
       "    <tr>\n",
       "      <th>4</th>\n",
       "      <td>( macos, windows)</td>\n",
       "      <td>()</td>\n",
       "    </tr>\n",
       "    <tr>\n",
       "      <th>...</th>\n",
       "      <td>...</td>\n",
       "      <td>...</td>\n",
       "    </tr>\n",
       "    <tr>\n",
       "      <th>8132</th>\n",
       "      <td>( sql, java)</td>\n",
       "      <td>()</td>\n",
       "    </tr>\n",
       "    <tr>\n",
       "      <th>8133</th>\n",
       "      <td>(python,)</td>\n",
       "      <td>()</td>\n",
       "    </tr>\n",
       "    <tr>\n",
       "      <th>8134</th>\n",
       "      <td>( string, c#)</td>\n",
       "      <td>( string,)</td>\n",
       "    </tr>\n",
       "    <tr>\n",
       "      <th>8135</th>\n",
       "      <td>( algorithm,  string, python)</td>\n",
       "      <td>()</td>\n",
       "    </tr>\n",
       "    <tr>\n",
       "      <th>8136</th>\n",
       "      <td>( asp.net, c#)</td>\n",
       "      <td>(c#,)</td>\n",
       "    </tr>\n",
       "  </tbody>\n",
       "</table>\n",
       "<p>8137 rows × 2 columns</p>\n",
       "</div>"
      ],
      "text/plain": [
       "                             y_test      y_pred\n",
       "0                            (c++,)          ()\n",
       "1                         (python,)   (python,)\n",
       "2             ( python-3.x, python)   (python,)\n",
       "3                           (.net,)       (c#,)\n",
       "4                 ( macos, windows)          ()\n",
       "...                             ...         ...\n",
       "8132                   ( sql, java)          ()\n",
       "8133                      (python,)          ()\n",
       "8134                  ( string, c#)  ( string,)\n",
       "8135  ( algorithm,  string, python)          ()\n",
       "8136                 ( asp.net, c#)       (c#,)\n",
       "\n",
       "[8137 rows x 2 columns]"
      ]
     },
     "execution_count": 31,
     "metadata": {},
     "output_type": "execute_result"
    }
   ],
   "source": [
    "df_resultats_tfidf"
   ]
  },
  {
   "cell_type": "markdown",
   "metadata": {},
   "source": [
    "### Résultats"
   ]
  },
  {
   "cell_type": "code",
   "execution_count": 32,
   "metadata": {},
   "outputs": [
    {
     "data": {
      "text/html": [
       "<div>\n",
       "<style scoped>\n",
       "    .dataframe tbody tr th:only-of-type {\n",
       "        vertical-align: middle;\n",
       "    }\n",
       "\n",
       "    .dataframe tbody tr th {\n",
       "        vertical-align: top;\n",
       "    }\n",
       "\n",
       "    .dataframe thead th {\n",
       "        text-align: right;\n",
       "    }\n",
       "</style>\n",
       "<table border=\"1\" class=\"dataframe\">\n",
       "  <thead>\n",
       "    <tr style=\"text-align: right;\">\n",
       "      <th></th>\n",
       "      <th>micro_precision</th>\n",
       "      <th>micro_recall</th>\n",
       "      <th>micro_f1</th>\n",
       "      <th>training_time</th>\n",
       "    </tr>\n",
       "  </thead>\n",
       "  <tbody>\n",
       "    <tr>\n",
       "      <th>LogisticRegression_tfidf</th>\n",
       "      <td>0.700218</td>\n",
       "      <td>0.275463</td>\n",
       "      <td>0.395383</td>\n",
       "      <td>29.861057</td>\n",
       "    </tr>\n",
       "  </tbody>\n",
       "</table>\n",
       "</div>"
      ],
      "text/plain": [
       "                          micro_precision  micro_recall  micro_f1  \\\n",
       "LogisticRegression_tfidf         0.700218      0.275463  0.395383   \n",
       "\n",
       "                          training_time  \n",
       "LogisticRegression_tfidf      29.861057  "
      ]
     },
     "execution_count": 32,
     "metadata": {},
     "output_type": "execute_result"
    }
   ],
   "source": [
    "result_df = pd.DataFrame.from_dict(models_performance, orient=\"index\")\n",
    "result_df"
   ]
  },
  {
   "cell_type": "markdown",
   "metadata": {},
   "source": [
    "## Word2Vec"
   ]
  },
  {
   "cell_type": "code",
   "execution_count": 33,
   "metadata": {},
   "outputs": [],
   "source": [
    "import tensorflow as tf\n",
    "import tensorflow.keras\n",
    "from tensorflow.keras import backend as K\n",
    "\n",
    "from tensorflow.keras.preprocessing.text import Tokenizer\n",
    "from tensorflow.keras.preprocessing.sequence import pad_sequences\n",
    "from tensorflow.keras import metrics as kmetrics\n",
    "from tensorflow.keras.layers import *\n",
    "from tensorflow.keras.models import Model\n",
    "import gensim"
   ]
  },
  {
   "cell_type": "markdown",
   "metadata": {},
   "source": [
    "Word2vec est un groupe de modèles utilisé pour le plongement lexical (word embedding). Ces modèles ont été développés par une équipe de recherche chez Google sous la direction de Tomas Mikolov. Ce sont des réseaux de neurones artificiels à deux couches entraînés pour reconstruire le contexte linguistique des mots. La méthode est implémentée dans la bibliothèque Python Gensim."
   ]
  },
  {
   "cell_type": "code",
   "execution_count": 34,
   "metadata": {},
   "outputs": [],
   "source": [
    "w2v_size=300\n",
    "w2v_window=5\n",
    "w2v_min_count=1\n",
    "w2v_epochs=100\n",
    "maxlen = 24 # adapt to length of sentences\n",
    "sentences = X.to_list()\n",
    "sentences = [gensim.utils.simple_preprocess(text) for text in sentences]"
   ]
  },
  {
   "cell_type": "code",
   "execution_count": 35,
   "metadata": {},
   "outputs": [
    {
     "name": "stdout",
     "output_type": "stream",
     "text": [
      "Build & train Word2Vec model ...\n",
      "Vocabulary size: 212\n",
      "Word2Vec trained\n"
     ]
    }
   ],
   "source": [
    "# Création et entraînement du modèle Word2Vec\n",
    "\n",
    "print(\"Build & train Word2Vec model ...\")\n",
    "w2v_model = gensim.models.Word2Vec(min_count=w2v_min_count, window=w2v_window,\n",
    "                                                vector_size=w2v_size,\n",
    "                                                seed=42,\n",
    "                                                workers=1)\n",
    "#                                                workers=multiprocessing.cpu_count())\n",
    "w2v_model.build_vocab(sentences)\n",
    "w2v_model.train(sentences, total_examples=w2v_model.corpus_count, epochs=w2v_epochs)\n",
    "model_vectors = w2v_model.wv\n",
    "w2v_words = model_vectors.index_to_key\n",
    "print(\"Vocabulary size: %i\" % len(w2v_words))\n",
    "print(\"Word2Vec trained\")"
   ]
  },
  {
   "cell_type": "code",
   "execution_count": 36,
   "metadata": {},
   "outputs": [
    {
     "name": "stdout",
     "output_type": "stream",
     "text": [
      "Fit Tokenizer ...\n",
      "Number of unique words: 213\n"
     ]
    }
   ],
   "source": [
    "# Préparation des sentences (tokenization)\n",
    "\n",
    "print(\"Fit Tokenizer ...\")\n",
    "tokenizer = Tokenizer()\n",
    "tokenizer.fit_on_texts(sentences)\n",
    "x_sentences = pad_sequences(tokenizer.texts_to_sequences(sentences),\n",
    "                                                     maxlen=maxlen,\n",
    "                                                     padding='post') \n",
    "                                                   \n",
    "num_words = len(tokenizer.word_index) + 1\n",
    "print(\"Number of unique words: %i\" % num_words)"
   ]
  },
  {
   "cell_type": "code",
   "execution_count": 37,
   "metadata": {},
   "outputs": [
    {
     "name": "stdout",
     "output_type": "stream",
     "text": [
      "Create Embedding matrix ...\n",
      "Word embedding rate :  1.0\n",
      "Embedding matrix: (213, 300)\n"
     ]
    }
   ],
   "source": [
    "# Création de la matrice d'embedding\n",
    "\n",
    "print(\"Create Embedding matrix ...\")\n",
    "w2v_size = 300\n",
    "word_index = tokenizer.word_index\n",
    "vocab_size = len(word_index) + 1\n",
    "embedding_matrix = np.zeros((vocab_size, w2v_size))\n",
    "i=0\n",
    "j=0\n",
    "    \n",
    "for word, idx in word_index.items():\n",
    "    i +=1\n",
    "    if word in w2v_words:\n",
    "        j +=1\n",
    "        embedding_vector = model_vectors[word]\n",
    "        if embedding_vector is not None:\n",
    "            embedding_matrix[idx] = model_vectors[word]\n",
    "            \n",
    "word_rate = np.round(j/i,4)\n",
    "print(\"Word embedding rate : \", word_rate)\n",
    "print(\"Embedding matrix: %s\" % str(embedding_matrix.shape))"
   ]
  },
  {
   "cell_type": "code",
   "execution_count": 38,
   "metadata": {},
   "outputs": [
    {
     "name": "stdout",
     "output_type": "stream",
     "text": [
      "Model: \"model\"\n",
      "_________________________________________________________________\n",
      " Layer (type)                Output Shape              Param #   \n",
      "=================================================================\n",
      " input_2 (InputLayer)        [(None, 24)]              0         \n",
      "                                                                 \n",
      " embedding (Embedding)       (None, 24, 300)           63900     \n",
      "                                                                 \n",
      " global_average_pooling1d (G  (None, 300)              0         \n",
      " lobalAveragePooling1D)                                          \n",
      "                                                                 \n",
      "=================================================================\n",
      "Total params: 63,900\n",
      "Trainable params: 63,900\n",
      "Non-trainable params: 0\n",
      "_________________________________________________________________\n"
     ]
    }
   ],
   "source": [
    "# Création du modèle\n",
    "\n",
    "input=Input(shape=(len(x_sentences),maxlen),dtype='float64')\n",
    "word_input=Input(shape=(maxlen,),dtype='float64')  \n",
    "word_embedding=Embedding(input_dim=vocab_size,\n",
    "                         output_dim=w2v_size,\n",
    "                         weights = [embedding_matrix],\n",
    "                         input_length=maxlen)(word_input)\n",
    "word_vec=GlobalAveragePooling1D()(word_embedding)  \n",
    "embed_model = Model([word_input],word_vec)\n",
    "\n",
    "embed_model.summary()"
   ]
  },
  {
   "cell_type": "code",
   "execution_count": 39,
   "metadata": {},
   "outputs": [
    {
     "name": "stdout",
     "output_type": "stream",
     "text": [
      "1272/1272 [==============================] - 2s 2ms/step\n"
     ]
    },
    {
     "data": {
      "text/plain": [
       "(40682, 300)"
      ]
     },
     "execution_count": 39,
     "metadata": {},
     "output_type": "execute_result"
    }
   ],
   "source": [
    "embeddings = embed_model.predict(x_sentences)\n",
    "embeddings.shape"
   ]
  },
  {
   "cell_type": "code",
   "execution_count": 40,
   "metadata": {},
   "outputs": [
    {
     "name": "stdout",
     "output_type": "stream",
     "text": [
      "X_train shape : (32545, 300)\n",
      "X_test shape : (8137, 300)\n",
      "y_train shape : (32545, 92)\n",
      "y_test shape : (8137, 92)\n"
     ]
    }
   ],
   "source": [
    "# Create train and test split (20%)\n",
    "X_train, X_test, y_train, y_test = train_test_split(embeddings, y_binarized,\n",
    "                                                    test_size=0.20, random_state=42)\n",
    "print(\"X_train shape : {}\".format(X_train.shape))\n",
    "print(\"X_test shape : {}\".format(X_test.shape))\n",
    "print(\"y_train shape : {}\".format(y_train.shape))\n",
    "print(\"y_test shape : {}\".format(y_test.shape))"
   ]
  },
  {
   "cell_type": "markdown",
   "metadata": {},
   "source": [
    "### Model"
   ]
  },
  {
   "cell_type": "code",
   "execution_count": null,
   "metadata": {},
   "outputs": [],
   "source": [
    "# Créer le modèle de Logistic Regression\n",
    "model = OneVsRestClassifier(LogisticRegression())\n",
    "\n",
    "# Début de la mesure du temps\n",
    "start_time = time.time()\n",
    "\n",
    "# Entraîner le modèle sur l'ensemble d'entraînement\n",
    "model.fit(X_train, y_train)\n",
    "\n",
    "# Fin de la mesure du temps\n",
    "end_time = time.time()\n",
    "training_time = end_time - start_time\n",
    "\n",
    "# Faire des prédictions sur l'ensemble de test\n",
    "y_pred = model.predict(X_test)\n",
    "metrics_report(\"Regression_logistique_W2V\", y_test , y_pred, models_performance)"
   ]
  },
  {
   "cell_type": "code",
   "execution_count": 47,
   "metadata": {},
   "outputs": [
    {
     "data": {
      "text/plain": [
       "1.0"
      ]
     },
     "execution_count": 47,
     "metadata": {},
     "output_type": "execute_result"
    }
   ],
   "source": [
    "# seuil de classification\n",
    "cut_off(y_test, y_pred)"
   ]
  },
  {
   "cell_type": "code",
   "execution_count": 48,
   "metadata": {},
   "outputs": [],
   "source": [
    "# Inverse transform\n",
    "threshold = cut_off(y_test,y_pred)\n",
    "reg_logit_preds = (y_pred>threshold)*1\n",
    "y_pred_inversed = multilabel_binarizer.inverse_transform(y_pred)\n",
    "y_test_inversed = multilabel_binarizer.inverse_transform(y_test)"
   ]
  },
  {
   "cell_type": "code",
   "execution_count": 49,
   "metadata": {},
   "outputs": [],
   "source": [
    "# Créer un dataframe pour stocker les résultats\n",
    "df_resultats_W2V = pd.DataFrame()\n",
    "\n",
    "# Ajouter les valeurs de y_test et y_pred au dataframe\n",
    "df_resultats_W2V ['y_test'] = y_test_inversed\n",
    "df_resultats_W2V ['y_pred'] = y_pred_inversed"
   ]
  },
  {
   "cell_type": "code",
   "execution_count": 50,
   "metadata": {},
   "outputs": [
    {
     "data": {
      "text/html": [
       "<div>\n",
       "<style scoped>\n",
       "    .dataframe tbody tr th:only-of-type {\n",
       "        vertical-align: middle;\n",
       "    }\n",
       "\n",
       "    .dataframe tbody tr th {\n",
       "        vertical-align: top;\n",
       "    }\n",
       "\n",
       "    .dataframe thead th {\n",
       "        text-align: right;\n",
       "    }\n",
       "</style>\n",
       "<table border=\"1\" class=\"dataframe\">\n",
       "  <thead>\n",
       "    <tr style=\"text-align: right;\">\n",
       "      <th></th>\n",
       "      <th>y_test</th>\n",
       "      <th>y_pred</th>\n",
       "    </tr>\n",
       "  </thead>\n",
       "  <tbody>\n",
       "    <tr>\n",
       "      <th>0</th>\n",
       "      <td>(c++,)</td>\n",
       "      <td>()</td>\n",
       "    </tr>\n",
       "    <tr>\n",
       "      <th>1</th>\n",
       "      <td>(python,)</td>\n",
       "      <td>()</td>\n",
       "    </tr>\n",
       "    <tr>\n",
       "      <th>2</th>\n",
       "      <td>( python-3.x, python)</td>\n",
       "      <td>(python,)</td>\n",
       "    </tr>\n",
       "    <tr>\n",
       "      <th>3</th>\n",
       "      <td>(.net,)</td>\n",
       "      <td>( multithreading, c#)</td>\n",
       "    </tr>\n",
       "    <tr>\n",
       "      <th>4</th>\n",
       "      <td>( macos, windows)</td>\n",
       "      <td>()</td>\n",
       "    </tr>\n",
       "    <tr>\n",
       "      <th>...</th>\n",
       "      <td>...</td>\n",
       "      <td>...</td>\n",
       "    </tr>\n",
       "    <tr>\n",
       "      <th>8132</th>\n",
       "      <td>( sql, java)</td>\n",
       "      <td>()</td>\n",
       "    </tr>\n",
       "    <tr>\n",
       "      <th>8133</th>\n",
       "      <td>(python,)</td>\n",
       "      <td>()</td>\n",
       "    </tr>\n",
       "    <tr>\n",
       "      <th>8134</th>\n",
       "      <td>( string, c#)</td>\n",
       "      <td>()</td>\n",
       "    </tr>\n",
       "    <tr>\n",
       "      <th>8135</th>\n",
       "      <td>( algorithm,  string, python)</td>\n",
       "      <td>( string,)</td>\n",
       "    </tr>\n",
       "    <tr>\n",
       "      <th>8136</th>\n",
       "      <td>( asp.net, c#)</td>\n",
       "      <td>()</td>\n",
       "    </tr>\n",
       "  </tbody>\n",
       "</table>\n",
       "<p>8137 rows × 2 columns</p>\n",
       "</div>"
      ],
      "text/plain": [
       "                             y_test                 y_pred\n",
       "0                            (c++,)                     ()\n",
       "1                         (python,)                     ()\n",
       "2             ( python-3.x, python)              (python,)\n",
       "3                           (.net,)  ( multithreading, c#)\n",
       "4                 ( macos, windows)                     ()\n",
       "...                             ...                    ...\n",
       "8132                   ( sql, java)                     ()\n",
       "8133                      (python,)                     ()\n",
       "8134                  ( string, c#)                     ()\n",
       "8135  ( algorithm,  string, python)             ( string,)\n",
       "8136                 ( asp.net, c#)                     ()\n",
       "\n",
       "[8137 rows x 2 columns]"
      ]
     },
     "execution_count": 50,
     "metadata": {},
     "output_type": "execute_result"
    }
   ],
   "source": [
    "df_resultats_W2V "
   ]
  },
  {
   "cell_type": "markdown",
   "metadata": {},
   "source": [
    "### Résulats"
   ]
  },
  {
   "cell_type": "code",
   "execution_count": 51,
   "metadata": {},
   "outputs": [
    {
     "data": {
      "text/html": [
       "<div>\n",
       "<style scoped>\n",
       "    .dataframe tbody tr th:only-of-type {\n",
       "        vertical-align: middle;\n",
       "    }\n",
       "\n",
       "    .dataframe tbody tr th {\n",
       "        vertical-align: top;\n",
       "    }\n",
       "\n",
       "    .dataframe thead th {\n",
       "        text-align: right;\n",
       "    }\n",
       "</style>\n",
       "<table border=\"1\" class=\"dataframe\">\n",
       "  <thead>\n",
       "    <tr style=\"text-align: right;\">\n",
       "      <th></th>\n",
       "      <th>micro_precision</th>\n",
       "      <th>micro_recall</th>\n",
       "      <th>micro_f1</th>\n",
       "      <th>training_time</th>\n",
       "    </tr>\n",
       "  </thead>\n",
       "  <tbody>\n",
       "    <tr>\n",
       "      <th>LogisticRegression_tfidf</th>\n",
       "      <td>0.700218</td>\n",
       "      <td>0.275463</td>\n",
       "      <td>0.395383</td>\n",
       "      <td>29.861057</td>\n",
       "    </tr>\n",
       "    <tr>\n",
       "      <th>Regression_logistique_W2V</th>\n",
       "      <td>0.640563</td>\n",
       "      <td>0.195268</td>\n",
       "      <td>0.299299</td>\n",
       "      <td>132.079161</td>\n",
       "    </tr>\n",
       "  </tbody>\n",
       "</table>\n",
       "</div>"
      ],
      "text/plain": [
       "                           micro_precision  micro_recall  micro_f1  \\\n",
       "LogisticRegression_tfidf          0.700218      0.275463  0.395383   \n",
       "Regression_logistique_W2V         0.640563      0.195268  0.299299   \n",
       "\n",
       "                           training_time  \n",
       "LogisticRegression_tfidf       29.861057  \n",
       "Regression_logistique_W2V     132.079161  "
      ]
     },
     "execution_count": 51,
     "metadata": {},
     "output_type": "execute_result"
    }
   ],
   "source": [
    "result_df = pd.DataFrame.from_dict(models_performance, orient=\"index\")\n",
    "result_df"
   ]
  },
  {
   "cell_type": "markdown",
   "metadata": {},
   "source": [
    "## USE"
   ]
  },
  {
   "cell_type": "code",
   "execution_count": 52,
   "metadata": {},
   "outputs": [],
   "source": [
    "import tensorflow as tf\n",
    "# import tensorflow_hub as hub\n",
    "import tensorflow.keras\n",
    "from tensorflow.keras import backend as K\n",
    "\n",
    "from tensorflow.keras.preprocessing.text import Tokenizer\n",
    "from tensorflow.keras.preprocessing.sequence import pad_sequences\n",
    "from tensorflow.keras import metrics as kmetrics\n",
    "from tensorflow.keras.layers import *\n",
    "from tensorflow.keras.models import Model\n",
    "\n",
    "# Bert\n",
    "import transformers\n",
    "from transformers import *"
   ]
  },
  {
   "cell_type": "code",
   "execution_count": 53,
   "metadata": {},
   "outputs": [],
   "source": [
    "import tensorflow_hub as hub\n",
    "import os\n",
    "\n",
    "# Set the module cache directory to a different location\n",
    "os.environ[\"TFHUB_CACHE_DIR\"] = \"/tmp/tfhub\"\n",
    "\n",
    "Model_use = hub.load(\"https://tfhub.dev/google/universal-sentence-encoder/4\")"
   ]
  },
  {
   "cell_type": "code",
   "execution_count": 54,
   "metadata": {},
   "outputs": [],
   "source": [
    "def feature_USE(sentences, b_size):\n",
    "    batch_size = b_size\n",
    "\n",
    "    for step in range(len(sentences)//batch_size):\n",
    "        idx = step*batch_size\n",
    "        feat = Model_use(sentences[idx:idx+batch_size])\n",
    "\n",
    "        if step == 0:\n",
    "            features = feat\n",
    "        else:\n",
    "            features = np.concatenate((features, feat))\n",
    "\n",
    "    if idx+batch_size < len(sentences):\n",
    "        feat = Model_use(sentences[idx+batch_size:len(sentences)])\n",
    "        features = np.concatenate((features, feat))\n",
    "\n",
    "    return features"
   ]
  },
  {
   "cell_type": "code",
   "execution_count": null,
   "metadata": {},
   "outputs": [],
   "source": [
    "batch_size = 1\n",
    "sentences = X.to_list()"
   ]
  },
  {
   "cell_type": "code",
   "execution_count": null,
   "metadata": {},
   "outputs": [],
   "source": [
    "features_USE = feature_USE_fct(sentences, batch_size)"
   ]
  },
  {
   "cell_type": "code",
   "execution_count": null,
   "metadata": {},
   "outputs": [],
   "source": [
    "features_USE.shape"
   ]
  },
  {
   "cell_type": "code",
   "execution_count": null,
   "metadata": {},
   "outputs": [],
   "source": [
    "y_binarized.shape"
   ]
  },
  {
   "cell_type": "code",
   "execution_count": null,
   "metadata": {},
   "outputs": [],
   "source": [
    "# Create train and test split (20%)\n",
    "X_train, X_test, y_train, y_test = train_test_split(features_USE, y_binarized,\n",
    "                                                    test_size=0.20, random_state=42)\n",
    "print(\"X_train shape : {}\".format(X_train.shape))\n",
    "print(\"X_test shape : {}\".format(X_test.shape))\n",
    "print(\"y_train shape : {}\".format(y_train.shape))\n",
    "print(\"y_test shape : {}\".format(y_test.shape))"
   ]
  },
  {
   "cell_type": "markdown",
   "metadata": {},
   "source": [
    "### Model"
   ]
  },
  {
   "cell_type": "code",
   "execution_count": null,
   "metadata": {},
   "outputs": [],
   "source": [
    "# Créer le modèle Régression logistique\n",
    "model = OneVsRestClassifier(LogisticRegression())\n",
    "\n",
    "# Début de la mesure du temps\n",
    "start_time = time.time()\n",
    "\n",
    "# Entraîner le modèle sur l'ensemble d'entraînement\n",
    "model.fit(X_train, y_train)\n",
    "\n",
    "# Fin de la mesure du temps\n",
    "end_time = time.time()\n",
    "training_time = end_time - start_time\n",
    "\n",
    "# Faire des prédictions sur l'ensemble de test\n",
    "y_pred = model.predict(X_test)\n",
    "metrics_report(\"Regression_logistique_USE\", y_test, y_pred, models_performance)"
   ]
  },
  {
   "cell_type": "code",
   "execution_count": null,
   "metadata": {},
   "outputs": [],
   "source": [
    "# seuil de classification\n",
    "cut_off(y_test, y_pred)"
   ]
  },
  {
   "cell_type": "code",
   "execution_count": null,
   "metadata": {},
   "outputs": [],
   "source": [
    "# Inverse transform\n",
    "threshold = cut_off(y_test,y_pred)\n",
    "reg_logit_preds = (y_pred>threshold)*1\n",
    "y_pred_inversed = multilabel_binarizer.inverse_transform(y_pred)\n",
    "y_test_inversed = multilabel_binarizer.inverse_transform(y_test)"
   ]
  },
  {
   "cell_type": "code",
   "execution_count": null,
   "metadata": {},
   "outputs": [],
   "source": [
    "# Créer un dataframe pour stocker les résultats\n",
    "df_resultats = pd.DataFrame()\n",
    "\n",
    "# Ajouter les valeurs de y_test et y_pred au dataframe\n",
    "df_resultats['y_test'] = y_test_inversed\n",
    "df_resultats['y_pred'] = y_pred_inversed"
   ]
  },
  {
   "cell_type": "code",
   "execution_count": null,
   "metadata": {},
   "outputs": [],
   "source": [
    "df_resultats"
   ]
  },
  {
   "cell_type": "markdown",
   "metadata": {},
   "source": [
    "### Résultats"
   ]
  },
  {
   "cell_type": "code",
   "execution_count": null,
   "metadata": {},
   "outputs": [],
   "source": [
    "result_df = pd.DataFrame.from_dict(models_performance, orient=\"index\")\n",
    "result_df"
   ]
  },
  {
   "cell_type": "markdown",
   "metadata": {},
   "source": [
    "## BERT"
   ]
  },
  {
   "cell_type": "code",
   "execution_count": null,
   "metadata": {},
   "outputs": [],
   "source": [
    "import tensorflow as tf\n",
    "import tensorflow_hub as hub\n",
    "import tensorflow_text as text  # Imports TF ops for preprocessing."
   ]
  },
  {
   "cell_type": "code",
   "execution_count": null,
   "metadata": {},
   "outputs": [],
   "source": [
    "BERT_MODEL = \"https://tfhub.dev/google/experts/bert/wiki_books/2\" \n",
    "PREPROCESS_MODEL = \"https://tfhub.dev/tensorflow/bert_en_uncased_preprocess/3\""
   ]
  },
  {
   "cell_type": "code",
   "execution_count": null,
   "metadata": {},
   "outputs": [],
   "source": [
    "preprocess = hub.load(PREPROCESS_MODEL)\n",
    "bert = hub.load(BERT_MODEL)"
   ]
  },
  {
   "cell_type": "code",
   "execution_count": null,
   "metadata": {},
   "outputs": [],
   "source": [
    "batch_size = 1\n",
    "sentences = X.to_list()"
   ]
  },
  {
   "cell_type": "code",
   "execution_count": null,
   "metadata": {},
   "outputs": [],
   "source": [
    "def feature_bert_tfh(sentences, key, b_size) :\n",
    "    batch_size = b_size\n",
    "\n",
    "    for step in range(len(sentences)//batch_size) :\n",
    "        idx = step*batch_size\n",
    "        inputs = preprocess(sentences[idx:idx+batch_size])\n",
    "        feat = bert(inputs)[key]\n",
    "\n",
    "        if step ==0 :\n",
    "            features = feat\n",
    "        else :\n",
    "            features = np.concatenate((features,feat))\n",
    "\n",
    "    if idx+batch_size<len(sentences):\n",
    "        inputs = preprocess(sentences[idx+batch_size:len(sentences)])\n",
    "        feat = bert(inputs)[key]\n",
    "        features = np.concatenate((features,feat))      \n",
    "\n",
    "    return features"
   ]
  },
  {
   "cell_type": "code",
   "execution_count": null,
   "metadata": {},
   "outputs": [],
   "source": [
    "feat_bert = feature_bert_tfh(sentences, 'pooled_output',128)"
   ]
  },
  {
   "cell_type": "code",
   "execution_count": null,
   "metadata": {},
   "outputs": [],
   "source": [
    "feat_bert.shape"
   ]
  },
  {
   "cell_type": "code",
   "execution_count": null,
   "metadata": {},
   "outputs": [],
   "source": [
    "y_binarized.shape"
   ]
  },
  {
   "cell_type": "code",
   "execution_count": null,
   "metadata": {},
   "outputs": [],
   "source": [
    "# Create train and test split (20%)\n",
    "X_train, X_test, y_train, y_test = train_test_split(feat_bert, y_binarized,\n",
    "                                                    test_size=0.20, random_state=42)\n",
    "print(\"X_train shape : {}\".format(X_train.shape))\n",
    "print(\"X_test shape : {}\".format(X_test.shape))\n",
    "print(\"y_train shape : {}\".format(y_train.shape))\n",
    "print(\"y_test shape : {}\".format(y_test.shape))"
   ]
  },
  {
   "cell_type": "markdown",
   "metadata": {},
   "source": [
    "### Models"
   ]
  },
  {
   "cell_type": "code",
   "execution_count": null,
   "metadata": {},
   "outputs": [],
   "source": [
    "# Créer le modèle Régression logistique\n",
    "model = OneVsRestClassifier(LogisticRegression())\n",
    "\n",
    "# Début de la mesure du temps\n",
    "start_time = time.time()\n",
    "\n",
    "# Entraîner le modèle sur l'ensemble d'entraînement\n",
    "model.fit(X_train, y_train)\n",
    "\n",
    "# Fin de la mesure du temps\n",
    "end_time = time.time()\n",
    "training_time = end_time - start_time\n",
    "\n",
    "# Faire des prédictions sur l'ensemble de test\n",
    "y_pred = model.predict(X_test)\n",
    "metrics_report(\"Regression_logistique_BERT\", y_test, y_pred, models_performance)"
   ]
  },
  {
   "cell_type": "code",
   "execution_count": null,
   "metadata": {},
   "outputs": [],
   "source": []
  },
  {
   "cell_type": "code",
   "execution_count": null,
   "metadata": {},
   "outputs": [],
   "source": []
  },
  {
   "cell_type": "code",
   "execution_count": null,
   "metadata": {},
   "outputs": [],
   "source": []
  },
  {
   "cell_type": "markdown",
   "metadata": {},
   "source": [
    "### Résultats"
   ]
  },
  {
   "cell_type": "code",
   "execution_count": null,
   "metadata": {},
   "outputs": [],
   "source": [
    "result_df = pd.DataFrame.from_dict(models_performance, orient=\"index\")\n",
    "result_df"
   ]
  },
  {
   "cell_type": "code",
   "execution_count": null,
   "metadata": {},
   "outputs": [],
   "source": [
    "df_result = result_df.T\n",
    "col_model =['micro_precision', 'micro_recall', 'micro_f1']\n",
    "ax = df_result[col_model].plot.bar(figsize= (11,6));\n",
    "ax.legend(loc=4,fontsize=16);\n",
    "ax.set_xticklabels(df_result.index,rotation=90, fontsize=15);\n",
    "ax.set_title('Score comparison of Embeddings features with logisticregression', fontsize=15);"
   ]
  },
  {
   "cell_type": "code",
   "execution_count": null,
   "metadata": {},
   "outputs": [],
   "source": [
    "ax = df_result['training_time'].plot.bar(figsize= (8,5),color='red');\n",
    "ax.set_xticklabels(df_result.index,rotation=80, fontsize=15);\n",
    "ax.set_title('Fit time of Embeddings features with logisticregression', fontsize=15);"
   ]
  },
  {
   "cell_type": "markdown",
   "metadata": {},
   "source": [
    "# Models non supervisés"
   ]
  },
  {
   "cell_type": "code",
   "execution_count": null,
   "metadata": {},
   "outputs": [],
   "source": [
    "import gensim\n",
    "from gensim.models import TfidfModel\n",
    "import gensim.corpora as corpora\n",
    "from gensim import models\n",
    "from gensim.utils import simple_preprocess\n",
    "from gensim.models.ldamulticore import LdaMulticore\n",
    "from gensim.models import CoherenceModel\n",
    "from sklearn.discriminant_analysis import LinearDiscriminantAnalysis as LDA\n",
    "import logging\n",
    "import warnings\n",
    "warnings.filterwarnings(\"ignore\",category=DeprecationWarning)"
   ]
  },
  {
   "attachments": {
    "oW48y.png": {
     "image/png": "[encoded data removed]"
    }
   },
   "cell_type": "markdown",
   "metadata": {},
   "source": [
    "##  Latent Dirichlet Allocation (LDA)\n",
    "C’est une méthode non-supervisée générative qui se base sur les hypothèses suivantes :\n",
    "\n",
    "* Chaque document du corpus est un ensemble de mots sans ordre (bag-of-words) ;\n",
    "\n",
    "* Chaque document aborde un certain nombre de thèmes dans différentes proportions qui lui sont propres p(θm)\n",
    "\n",
    "* Chaque mot possède une distribution associée à chaque thème p(ϕk). On peut ainsi représenter chaque thème par une probabilité sur chaque mot.\n",
    "\n",
    "* zn représente le thème du mot wn\n",
    "\n",
    "On peut déterminer quels sont les thèmes, les distributions de chaque mot sur les thèmes, la fréquence d’apparition de chaque thème sur le corpus.\n",
    "\n",
    "Une représentation formelle sous forme de modèle probabiliste graphique est la suivante :\n",
    "\n",
    "![oW48y.png](attachment:oW48y.png)"
   ]
  },
  {
   "cell_type": "code",
   "execution_count": null,
   "metadata": {},
   "outputs": [],
   "source": [
    "# Créer une liste de listes de mots à partir de la colonne 'Words_filtered'\n",
    "documents = df['Words_filtered'].apply(lambda x: x.split()).tolist()\n",
    "\n",
    "# Créer le dictionnaire de mots avec gensim\n",
    "gensim_dictionary = corpora.Dictionary(documents)\n",
    "\n",
    "# Créer le corpus de documents sous forme de sac de mots avec le dictionnaire\n",
    "corpus = [gensim_dictionary.doc2bow(doc) for doc in documents]"
   ]
  },
  {
   "cell_type": "code",
   "execution_count": null,
   "metadata": {},
   "outputs": [],
   "source": [
    "#printing the corpus we created above.\n",
    "print(corpus[:3]) "
   ]
  },
  {
   "cell_type": "code",
   "execution_count": null,
   "metadata": {},
   "outputs": [],
   "source": [
    "#we can print the words with their frequencies.\n",
    "\n",
    "[[(gensim_dictionary[id], freq) for id, freq in cp] for cp in corpus[:4]] "
   ]
  },
  {
   "cell_type": "code",
   "execution_count": null,
   "metadata": {},
   "outputs": [],
   "source": [
    "# stock result of coherence and perplexity score\n",
    "results = []\n",
    "\n",
    "# loop for find the best topic :\n",
    "for n_topics in [4, 5, 6, 7, 8, 9, 10, 11, 12]:\n",
    "\n",
    "    # creating the LDA model\n",
    "    lda_model = gensim.models.ldamodel.LdaModel(corpus=corpus,\n",
    "                                                id2word=gensim_dictionary,\n",
    "                                                num_topics=n_topics,\n",
    "                                                random_state=0,\n",
    "                                                update_every=1,\n",
    "                                                chunksize=100,\n",
    "                                                passes=10,\n",
    "                                                alpha='auto'\n",
    "                                                )\n",
    "\n",
    "    # creation score :\n",
    "    Perplexity_Score = lda_model.log_perplexity(corpus)\n",
    "    Coherence_Score = CoherenceModel(model=lda_model,\n",
    "                                     texts=documents,\n",
    "                                     dictionary=gensim_dictionary,\n",
    "                                     coherence='c_v'\n",
    "                                     ).get_coherence()\n",
    "\n",
    "    # Visualize the results :\n",
    "    print('-'*40)\n",
    "    print(f\" For {n_topics} topics :\")\n",
    "    print('-'*40)\n",
    "    print('')\n",
    "\n",
    "    # Compute Perplexity\n",
    "    # a measure of how good the model is. lower the better.\n",
    "    print(f\"Perplexity Score : {Perplexity_Score}\")\n",
    "    print('')\n",
    "\n",
    "    # Compute Coherence Score\n",
    "    print(f\"Coherence Score : {Coherence_Score}\")\n",
    "\n",
    "    results.append([n_topics, Perplexity_Score, Coherence_Score])"
   ]
  },
  {
   "cell_type": "code",
   "execution_count": null,
   "metadata": {},
   "outputs": [],
   "source": [
    "fig,ax= plt.subplots(figsize=(15, 15))\n",
    "\n",
    "# 1st line :\n",
    "ax.plot([line[0] for line in results],\n",
    "        [line[1] for line in results],\n",
    "        color = \"b\",\n",
    "        label = 'perplexity_score')\n",
    "ax.set_ylabel('perplexity_score')\n",
    "ax.set_xlabel('Number of Topics')\n",
    "\n",
    "\n",
    "# to have same size for score :\n",
    "ax2 = ax.twinx()\n",
    "\n",
    "# 2nd line :\n",
    "ax2.plot([line[0] for line in results],\n",
    "        [line[2] for line in results],\n",
    "        color = \"g\",\n",
    "        label = 'coherence_score')\n",
    "ax2.set_ylabel('coherence_score')\n",
    "\n",
    "fig.legend()"
   ]
  },
  {
   "cell_type": "markdown",
   "metadata": {},
   "source": [
    "### Optimisation LDA"
   ]
  },
  {
   "cell_type": "code",
   "execution_count": null,
   "metadata": {},
   "outputs": [],
   "source": [
    "# number of topics\n",
    "num_topics = 6\n",
    "\n",
    "# Build LDA model\n",
    "lda_model = gensim.models.LdaMulticore(corpus=corpus,\n",
    "                                       id2word=gensim_dictionary,\n",
    "                                       num_topics=num_topics)\n",
    "\n",
    "# Define the number of top words to print for each topic\n",
    "no_top_words = 20\n",
    "\n",
    "# Print the top words in the 6 topics\n",
    "for topic_idx in range(num_topics):\n",
    "    print(\"Topic {}:\".format(topic_idx))\n",
    "    top_words = lda_model.get_topic_terms(topic_idx, topn=no_top_words)\n",
    "    top_word_strings = [gensim_dictionary[i] for i, _ in top_words]\n",
    "    print(\" \".join(top_word_strings))\n",
    "    print()\n",
    "\n",
    "doc_lda = lda_model[corpus]"
   ]
  },
  {
   "cell_type": "markdown",
   "metadata": {},
   "source": [
    "### Analyzing LDA model results"
   ]
  },
  {
   "cell_type": "markdown",
   "metadata": {},
   "source": [
    "Maintenant que nous disposons d'un modèle entraîné, visualisons les sujets pour en faciliter l'interprétation. Pour ce faire, nous utiliserons un paquetage de visualisation populaire, pyLDAvis, qui est conçu pour aider de manière interactive à :\n",
    "\n",
    "Mieux comprendre et interpréter les sujets individuels, et\n",
    "Mieux comprendre les relations entre les sujets.\n",
    "Pour (1), vous pouvez sélectionner manuellement chaque sujet pour visualiser les termes les plus fréquents et/ou les plus \"pertinents\", en utilisant différentes valeurs du paramètre λ. Cela peut s'avérer utile lorsque vous essayez d'attribuer un nom ou une \"signification\" interprétable par l'homme à chaque thème.\n",
    "\n",
    "Pour (2), l'exploration du graphe de la distance inter-sujets peut vous aider à comprendre comment les sujets sont liés les uns aux autres, y compris une structure potentielle de plus haut niveau entre les groupes de sujets."
   ]
  },
  {
   "cell_type": "code",
   "execution_count": null,
   "metadata": {},
   "outputs": [],
   "source": [
    "import pyLDAvis.gensim_models\n",
    "import gensim\n",
    "\n",
    "data = pyLDAvis.gensim_models.prepare(lda_model, corpus, gensim_dictionary)\n",
    "\n",
    "# Visualisation interactive\n",
    "pyLDAvis.show(data)"
   ]
  },
  {
   "cell_type": "markdown",
   "metadata": {},
   "source": [
    "## NMF"
   ]
  },
  {
   "cell_type": "code",
   "execution_count": null,
   "metadata": {},
   "outputs": [],
   "source": [
    "from sklearn.decomposition import NMF"
   ]
  },
  {
   "cell_type": "code",
   "execution_count": null,
   "metadata": {},
   "outputs": [],
   "source": [
    "def display_topics(model, feature_names, no_top_words):\n",
    "    for topic_idx, topic in enumerate(model.components_):\n",
    "        print(\"Topic {}:\".format(topic_idx))\n",
    "        print(\" \".join([feature_names[i] for i in topic.argsort()[:-no_top_words - 1:-1]]))\n",
    "        print()"
   ]
  },
  {
   "cell_type": "code",
   "execution_count": null,
   "metadata": {},
   "outputs": [],
   "source": [
    "# Define the number of features to use\n",
    "n_features = 1000\n",
    "\n",
    "# Define the TF-IDF vectorizer\n",
    "tfidf_vectorizer = TfidfVectorizer(max_df=0.95, \n",
    "                                    min_df=2, \n",
    "                                    max_features=n_features, \n",
    "                                    stop_words='english')\n",
    "\n",
    "# Fit and transform the TF-IDF matrix\n",
    "tfidf = tfidf_vectorizer.fit_transform(Words)\n",
    "\n",
    "# Get the feature names from the TF-IDF vectorizer\n",
    "tfidf_feature_names = tfidf_vectorizer.get_feature_names()\n",
    "\n",
    "# Define the number of topics for NMF\n",
    "n_components = 5\n",
    "\n",
    "# Run NMF\n",
    "nmf = NMF(n_components=n_components, random_state=1, alpha=.1, l1_ratio=.5, init='nndsvd')\n",
    "nmf.fit(tfidf)\n",
    "\n",
    "# Define the number of top words to display for each topic\n",
    "n_top_words = 20\n",
    "\n",
    "# Display the top words for each topic\n",
    "display_topics(nmf, tfidf_feature_names, n_top_words)"
   ]
  },
  {
   "cell_type": "code",
   "execution_count": null,
   "metadata": {},
   "outputs": [],
   "source": [
    "def plot_top_words(model, feature_names, n_top_words, title):\n",
    "    fig, axes = plt.subplots(1, 5, figsize=(30, 15), sharex=True)\n",
    "    axes = axes.flatten()\n",
    "    for topic_idx, topic in enumerate(model.components_):\n",
    "        top_features_ind = topic.argsort()[:-n_top_words - 1:-1]\n",
    "        top_features = [feature_names[i] for i in top_features_ind]\n",
    "        weights = topic[top_features_ind]\n",
    "\n",
    "        ax = axes[topic_idx]\n",
    "        ax.barh(top_features, weights, height=0.7)\n",
    "        ax.set_title(f'Topic {topic_idx +1}',\n",
    "                     fontdict={'fontsize': 30})\n",
    "        ax.invert_yaxis()\n",
    "        ax.tick_params(axis='both', which='major', labelsize=20)\n",
    "        for i in 'top right left'.split():\n",
    "            ax.spines[i].set_visible(False)\n",
    "        fig.suptitle(title, fontsize=40)\n",
    "\n",
    "    plt.subplots_adjust(top=0.90, bottom=0.05, wspace=0.90, hspace=0.3)\n",
    "    plt.show()"
   ]
  },
  {
   "cell_type": "code",
   "execution_count": null,
   "metadata": {},
   "outputs": [],
   "source": [
    "# Visualisation\n",
    "plot_top_words(nmf, tfidf_feature_names, n_top_words,\n",
    "               'Topics in NMF model (Frobenius norm)')"
   ]
  },
  {
   "cell_type": "code",
   "execution_count": null,
   "metadata": {},
   "outputs": [],
   "source": []
  },
  {
   "cell_type": "code",
   "execution_count": null,
   "metadata": {},
   "outputs": [],
   "source": []
  },
  {
   "cell_type": "code",
   "execution_count": null,
   "metadata": {},
   "outputs": [],
   "source": []
  },
  {
   "cell_type": "code",
   "execution_count": null,
   "metadata": {},
   "outputs": [],
   "source": []
  }
 ],
 "metadata": {
  "kernelspec": {
   "display_name": "Python 3",
   "language": "python",
   "name": "python3"
  },
  "language_info": {
   "codemirror_mode": {
    "name": "ipython",
    "version": 3
   },
   "file_extension": ".py",
   "mimetype": "text/x-python",
   "name": "python",
   "nbconvert_exporter": "python",
   "pygments_lexer": "ipython3",
   "version": "3.8.8"
  },
  "toc": {
   "base_numbering": 1,
   "nav_menu": {},
   "number_sections": true,
   "sideBar": true,
   "skip_h1_title": false,
   "title_cell": "Table of Contents",
   "title_sidebar": "Contents",
   "toc_cell": false,
   "toc_position": {
    "height": "calc(100% - 180px)",
    "left": "10px",
    "top": "150px",
    "width": "255.966px"
   },
   "toc_section_display": true,
   "toc_window_display": true
  }
 },
 "nbformat": 4,
 "nbformat_minor": 2
}
